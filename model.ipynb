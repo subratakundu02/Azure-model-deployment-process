{
 "cells": [
  {
   "cell_type": "code",
   "execution_count": null,
   "metadata": {},
   "outputs": [],
   "source": [
    "import pandas as pd\n",
    "\n",
    "# Load the dataset\n",
    "file_path = '/mnt/data/IMDB Dataset.csv'\n",
    "df = pd.read_csv(file_path)\n",
    "\n",
    "# Display the first few rows of the dataset\n",
    "df.head()\n"
   ]
  },
  {
   "cell_type": "code",
   "execution_count": null,
   "metadata": {},
   "outputs": [],
   "source": [
    "import re\n",
    "\n",
    "# Clean the text data\n",
    "def clean_text(text):\n",
    "    text = re.sub(r'[^\\w\\s]', '', text)  # Remove punctuation\n",
    "    text = text.lower()  # Convert to lowercase\n",
    "    return text\n",
    "\n",
    "df['cleaned_review'] = df['review'].apply(clean_text)\n",
    "\n",
    "# Encode target labels (assuming 'sentiment' column exists and contains 'positive'/'negative' labels)\n",
    "df['sentiment'] = df['sentiment'].map({'positive': 1, 'negative': 0})\n"
   ]
  },
  {
   "cell_type": "code",
   "execution_count": null,
   "metadata": {},
   "outputs": [],
   "source": [
    "import google.generativeai as palm\n",
    "from dotenv import load_dotenv\n",
    "import os\n",
    "\n",
    "# Load environment variables\n",
    "load_dotenv()\n",
    "\n",
    "# Initialize Google PaLM API\n",
    "palm.configure(api_key=os.getenv(\"PALM_API_KEY\"))\n",
    "\n",
    "# Generate embeddings or sentiment labels\n",
    "def extract_features_with_palm(text):\n",
    "    try:\n",
    "        response = palm.generate_text(prompt=text, temperature=0.0)\n",
    "        \n",
    "        # Check if the response was blocked\n",
    "        if response.filters:\n",
    "            print(f\"Blocked reason: {response.filters[0]['reason']}\")\n",
    "            return None\n",
    "        \n",
    "        # Extract text or embeddings\n",
    "        if response.candidates:\n",
    "            return response.candidates[0]['output'].strip()\n",
    "        else:\n",
    "            return None\n",
    "        \n",
    "    except Exception as e:\n",
    "        print(f\"Error with PaLM model: {e}\")\n",
    "        return None\n",
    "\n",
    "# Apply the function to the dataset\n",
    "df['palm_output'] = df['cleaned_review'].apply(extract_features_with_palm)\n"
   ]
  }
 ],
 "metadata": {
  "language_info": {
   "name": "python"
  }
 },
 "nbformat": 4,
 "nbformat_minor": 2
}
